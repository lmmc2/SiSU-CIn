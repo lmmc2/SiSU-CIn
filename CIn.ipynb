{
  "nbformat": 4,
  "nbformat_minor": 0,
  "metadata": {
    "colab": {
      "name": "CIn.ipynb",
      "version": "0.3.2",
      "provenance": [],
      "collapsed_sections": []
    },
    "kernelspec": {
      "name": "python3",
      "display_name": "Python 3"
    }
  },
  "cells": [
    {
      "metadata": {
        "id": "soIkODPa3XHr",
        "colab_type": "code",
        "outputId": "772408d7-02c6-4e82-8d92-bb009b1e75ff",
        "colab": {
          "resources": {
            "http://localhost:8080/nbextensions/google.colab/files.js": {
              "data": "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",
              "ok": true,
              "headers": [
                [
                  "content-type",
                  "application/javascript"
                ]
              ],
              "status": 200,
              "status_text": "OK"
            }
          },
          "base_uri": "https://localhost:8080/",
          "height": 88
        }
      },
      "cell_type": "code",
      "source": [
        "#get file\n",
        "from google.colab import files\n",
        "uploaded = files.upload()\n",
        "for fn in uploaded.keys():\n",
        "  print('User uploaded file \"{name}\" with length {length} bytes'.format(name=fn, length=len(uploaded[fn])))"
      ],
      "execution_count": 1,
      "outputs": [
        {
          "output_type": "display_data",
          "data": {
            "text/html": [
              "\n",
              "     <input type=\"file\" id=\"files-ebe3cd2a-72f6-422b-bdb0-ee1d6580c9b0\" name=\"files[]\" multiple disabled />\n",
              "     <output id=\"result-ebe3cd2a-72f6-422b-bdb0-ee1d6580c9b0\">\n",
              "      Upload widget is only available when the cell has been executed in the\n",
              "      current browser session. Please rerun this cell to enable.\n",
              "      </output>\n",
              "      <script src=\"/nbextensions/google.colab/files.js\"></script> "
            ],
            "text/plain": [
              "<IPython.core.display.HTML object>"
            ]
          },
          "metadata": {
            "tags": []
          }
        },
        {
          "output_type": "stream",
          "text": [
            "Saving relatorio_alunos_cin_recrutamento_PET_corrigido.csv to relatorio_alunos_cin_recrutamento_PET_corrigido.csv\n",
            "User uploaded file \"relatorio_alunos_cin_recrutamento_PET_corrigido.csv\" with length 206617 bytes\n"
          ],
          "name": "stdout"
        }
      ]
    },
    {
      "metadata": {
        "id": "sbplSmJl3pj8",
        "colab_type": "code",
        "colab": {}
      },
      "cell_type": "code",
      "source": [
        "import csv\n",
        "import pandas as pd"
      ],
      "execution_count": 0,
      "outputs": []
    },
    {
      "metadata": {
        "id": "9ehWpY-c3scM",
        "colab_type": "code",
        "outputId": "d01e214d-06f1-4dc4-9423-5970987a9fd3",
        "colab": {
          "base_uri": "https://localhost:8080/",
          "height": 204
        }
      },
      "cell_type": "code",
      "source": [
        "df = pd.read_csv('relatorio_alunos_cin_recrutamento_PET_corrigido.csv', encoding = 'utf-8')\n",
        "df.head()"
      ],
      "execution_count": 3,
      "outputs": [
        {
          "output_type": "execute_result",
          "data": {
            "text/html": [
              "<div>\n",
              "<style scoped>\n",
              "    .dataframe tbody tr th:only-of-type {\n",
              "        vertical-align: middle;\n",
              "    }\n",
              "\n",
              "    .dataframe tbody tr th {\n",
              "        vertical-align: top;\n",
              "    }\n",
              "\n",
              "    .dataframe thead th {\n",
              "        text-align: right;\n",
              "    }\n",
              "</style>\n",
              "<table border=\"1\" class=\"dataframe\">\n",
              "  <thead>\n",
              "    <tr style=\"text-align: right;\">\n",
              "      <th></th>\n",
              "      <th>MATRICULA</th>\n",
              "      <th>INGRESSO</th>\n",
              "      <th>ANO</th>\n",
              "      <th>SEMESTRE</th>\n",
              "      <th>CR</th>\n",
              "      <th>CURSO</th>\n",
              "      <th>GÊNERO</th>\n",
              "      <th>MODALIDADE</th>\n",
              "    </tr>\n",
              "  </thead>\n",
              "  <tbody>\n",
              "    <tr>\n",
              "      <th>0</th>\n",
              "      <td>200870401</td>\n",
              "      <td>2016</td>\n",
              "      <td>2016</td>\n",
              "      <td>2</td>\n",
              "      <td>7.70</td>\n",
              "      <td>CIÊNCIA DA COMPUTAÇÃO</td>\n",
              "      <td>M</td>\n",
              "      <td>A0</td>\n",
              "    </tr>\n",
              "    <tr>\n",
              "      <th>1</th>\n",
              "      <td>200870401</td>\n",
              "      <td>2016</td>\n",
              "      <td>2017</td>\n",
              "      <td>1</td>\n",
              "      <td>6.70</td>\n",
              "      <td>CIÊNCIA DA COMPUTAÇÃO</td>\n",
              "      <td>M</td>\n",
              "      <td>A0</td>\n",
              "    </tr>\n",
              "    <tr>\n",
              "      <th>2</th>\n",
              "      <td>200870401</td>\n",
              "      <td>2016</td>\n",
              "      <td>2017</td>\n",
              "      <td>2</td>\n",
              "      <td>6.62</td>\n",
              "      <td>CIÊNCIA DA COMPUTAÇÃO</td>\n",
              "      <td>M</td>\n",
              "      <td>A0</td>\n",
              "    </tr>\n",
              "    <tr>\n",
              "      <th>3</th>\n",
              "      <td>200870401</td>\n",
              "      <td>2016</td>\n",
              "      <td>2018</td>\n",
              "      <td>1</td>\n",
              "      <td>6.25</td>\n",
              "      <td>CIÊNCIA DA COMPUTAÇÃO</td>\n",
              "      <td>M</td>\n",
              "      <td>A0</td>\n",
              "    </tr>\n",
              "    <tr>\n",
              "      <th>4</th>\n",
              "      <td>200870401</td>\n",
              "      <td>2016</td>\n",
              "      <td>2018</td>\n",
              "      <td>2</td>\n",
              "      <td>6.39</td>\n",
              "      <td>CIÊNCIA DA COMPUTAÇÃO</td>\n",
              "      <td>M</td>\n",
              "      <td>A0</td>\n",
              "    </tr>\n",
              "  </tbody>\n",
              "</table>\n",
              "</div>"
            ],
            "text/plain": [
              "   MATRICULA  INGRESSO   ANO  SEMESTRE    CR                  CURSO GÊNERO  \\\n",
              "0  200870401      2016  2016         2  7.70  CIÊNCIA DA COMPUTAÇÃO      M   \n",
              "1  200870401      2016  2017         1  6.70  CIÊNCIA DA COMPUTAÇÃO      M   \n",
              "2  200870401      2016  2017         2  6.62  CIÊNCIA DA COMPUTAÇÃO      M   \n",
              "3  200870401      2016  2018         1  6.25  CIÊNCIA DA COMPUTAÇÃO      M   \n",
              "4  200870401      2016  2018         2  6.39  CIÊNCIA DA COMPUTAÇÃO      M   \n",
              "\n",
              "  MODALIDADE  \n",
              "0         A0  \n",
              "1         A0  \n",
              "2         A0  \n",
              "3         A0  \n",
              "4         A0  "
            ]
          },
          "metadata": {
            "tags": []
          },
          "execution_count": 3
        }
      ]
    },
    {
      "metadata": {
        "id": "P1Bdor2C330-",
        "colab_type": "text"
      },
      "cell_type": "markdown",
      "source": [
        "## Modificações no DataFrame\n",
        "\n",
        "---\n",
        "\n",
        "\n",
        "*   A coluna *Modalidade* será substituída pelas colunas *Cotista: bool*, *Baixa Renda: bool*, *Deficiência: bool* e *Raça: category*, como feito no pré-processamento dos dados do SiSU.\n",
        "*   As linhas correspondentes aos alunos que ingressaram no CIn em 2019 serão removidas, já que o período ainda não acabou e, portanto, esses alunos possuem CR 0.\n",
        "\n"
      ]
    },
    {
      "metadata": {
        "id": "v1ms-RuJ5Y8X",
        "colab_type": "code",
        "colab": {}
      },
      "cell_type": "code",
      "source": [
        "# df = df.drop(columns = 'MATRICULA')"
      ],
      "execution_count": 0,
      "outputs": []
    },
    {
      "metadata": {
        "id": "AObYdqjK5l3n",
        "colab_type": "code",
        "outputId": "ac6df061-3482-4ddd-ec98-1a0940c0d03b",
        "colab": {
          "base_uri": "https://localhost:8080/",
          "height": 204
        }
      },
      "cell_type": "code",
      "source": [
        "# adicionar info cota\n",
        "df['COTISTA'] = False\n",
        "\n",
        "df.loc[(df.MODALIDADE != 'AC') & (df.MODALIDADE != 'A0'), 'COTISTA'] = True\n",
        "\n",
        "# adicionar info baixa renda\n",
        "df['BAIXA_RENDA'] = False\n",
        "\n",
        "df.loc[(df.MODALIDADE == 'L1') | (df.MODALIDADE == 'L2') | (df.MODALIDADE == 'L9') | (df.MODALIDADE == 'L10'), 'BAIXA_RENDA'] = True\n",
        "\n",
        "# adicionar info deficiencia\n",
        "df['DEFICIENCIA'] = False\n",
        "\n",
        "df.loc[(df.MODALIDADE == 'L9') | (df.MODALIDADE == 'L10') | (df.MODALIDADE == 'L13') | (df.MODALIDADE == 'L14'), 'DEFICIENCIA'] = True\n",
        "\n",
        "# adicionar info raca\n",
        "df['RACA'] = 'BRANCO'\n",
        "\n",
        "df.loc[(df.MODALIDADE == 'L2') | (df.MODALIDADE == 'L4') | (df.MODALIDADE == 'L6') | (df.MODALIDADE == 'L10') | (df.MODALIDADE == 'L14'), 'RACA'] = 'PRETO/PARDO/INDIGENA'\n",
        "\n",
        "df = df.drop(columns='MODALIDADE')\n",
        "df.head()"
      ],
      "execution_count": 4,
      "outputs": [
        {
          "output_type": "execute_result",
          "data": {
            "text/html": [
              "<div>\n",
              "<style scoped>\n",
              "    .dataframe tbody tr th:only-of-type {\n",
              "        vertical-align: middle;\n",
              "    }\n",
              "\n",
              "    .dataframe tbody tr th {\n",
              "        vertical-align: top;\n",
              "    }\n",
              "\n",
              "    .dataframe thead th {\n",
              "        text-align: right;\n",
              "    }\n",
              "</style>\n",
              "<table border=\"1\" class=\"dataframe\">\n",
              "  <thead>\n",
              "    <tr style=\"text-align: right;\">\n",
              "      <th></th>\n",
              "      <th>MATRICULA</th>\n",
              "      <th>INGRESSO</th>\n",
              "      <th>ANO</th>\n",
              "      <th>SEMESTRE</th>\n",
              "      <th>CR</th>\n",
              "      <th>CURSO</th>\n",
              "      <th>GÊNERO</th>\n",
              "      <th>COTISTA</th>\n",
              "      <th>BAIXA_RENDA</th>\n",
              "      <th>DEFICIENCIA</th>\n",
              "      <th>RACA</th>\n",
              "    </tr>\n",
              "  </thead>\n",
              "  <tbody>\n",
              "    <tr>\n",
              "      <th>0</th>\n",
              "      <td>200870401</td>\n",
              "      <td>2016</td>\n",
              "      <td>2016</td>\n",
              "      <td>2</td>\n",
              "      <td>7.70</td>\n",
              "      <td>CIÊNCIA DA COMPUTAÇÃO</td>\n",
              "      <td>M</td>\n",
              "      <td>False</td>\n",
              "      <td>False</td>\n",
              "      <td>False</td>\n",
              "      <td>BRANCO</td>\n",
              "    </tr>\n",
              "    <tr>\n",
              "      <th>1</th>\n",
              "      <td>200870401</td>\n",
              "      <td>2016</td>\n",
              "      <td>2017</td>\n",
              "      <td>1</td>\n",
              "      <td>6.70</td>\n",
              "      <td>CIÊNCIA DA COMPUTAÇÃO</td>\n",
              "      <td>M</td>\n",
              "      <td>False</td>\n",
              "      <td>False</td>\n",
              "      <td>False</td>\n",
              "      <td>BRANCO</td>\n",
              "    </tr>\n",
              "    <tr>\n",
              "      <th>2</th>\n",
              "      <td>200870401</td>\n",
              "      <td>2016</td>\n",
              "      <td>2017</td>\n",
              "      <td>2</td>\n",
              "      <td>6.62</td>\n",
              "      <td>CIÊNCIA DA COMPUTAÇÃO</td>\n",
              "      <td>M</td>\n",
              "      <td>False</td>\n",
              "      <td>False</td>\n",
              "      <td>False</td>\n",
              "      <td>BRANCO</td>\n",
              "    </tr>\n",
              "    <tr>\n",
              "      <th>3</th>\n",
              "      <td>200870401</td>\n",
              "      <td>2016</td>\n",
              "      <td>2018</td>\n",
              "      <td>1</td>\n",
              "      <td>6.25</td>\n",
              "      <td>CIÊNCIA DA COMPUTAÇÃO</td>\n",
              "      <td>M</td>\n",
              "      <td>False</td>\n",
              "      <td>False</td>\n",
              "      <td>False</td>\n",
              "      <td>BRANCO</td>\n",
              "    </tr>\n",
              "    <tr>\n",
              "      <th>4</th>\n",
              "      <td>200870401</td>\n",
              "      <td>2016</td>\n",
              "      <td>2018</td>\n",
              "      <td>2</td>\n",
              "      <td>6.39</td>\n",
              "      <td>CIÊNCIA DA COMPUTAÇÃO</td>\n",
              "      <td>M</td>\n",
              "      <td>False</td>\n",
              "      <td>False</td>\n",
              "      <td>False</td>\n",
              "      <td>BRANCO</td>\n",
              "    </tr>\n",
              "  </tbody>\n",
              "</table>\n",
              "</div>"
            ],
            "text/plain": [
              "   MATRICULA  INGRESSO   ANO  SEMESTRE    CR                  CURSO GÊNERO  \\\n",
              "0  200870401      2016  2016         2  7.70  CIÊNCIA DA COMPUTAÇÃO      M   \n",
              "1  200870401      2016  2017         1  6.70  CIÊNCIA DA COMPUTAÇÃO      M   \n",
              "2  200870401      2016  2017         2  6.62  CIÊNCIA DA COMPUTAÇÃO      M   \n",
              "3  200870401      2016  2018         1  6.25  CIÊNCIA DA COMPUTAÇÃO      M   \n",
              "4  200870401      2016  2018         2  6.39  CIÊNCIA DA COMPUTAÇÃO      M   \n",
              "\n",
              "   COTISTA  BAIXA_RENDA  DEFICIENCIA    RACA  \n",
              "0    False        False        False  BRANCO  \n",
              "1    False        False        False  BRANCO  \n",
              "2    False        False        False  BRANCO  \n",
              "3    False        False        False  BRANCO  \n",
              "4    False        False        False  BRANCO  "
            ]
          },
          "metadata": {
            "tags": []
          },
          "execution_count": 4
        }
      ]
    },
    {
      "metadata": {
        "id": "xsGVqKtV6l_8",
        "colab_type": "code",
        "outputId": "f64c5249-8530-4f56-c6db-5c5d4b03b499",
        "colab": {
          "base_uri": "https://localhost:8080/",
          "height": 34
        }
      },
      "cell_type": "code",
      "source": [
        "df.INGRESSO.count()"
      ],
      "execution_count": 5,
      "outputs": [
        {
          "output_type": "execute_result",
          "data": {
            "text/plain": [
              "3538"
            ]
          },
          "metadata": {
            "tags": []
          },
          "execution_count": 5
        }
      ]
    },
    {
      "metadata": {
        "id": "S1CrfTCV6Mbc",
        "colab_type": "code",
        "outputId": "fb427f16-29f0-4be5-8737-260d35f9b99e",
        "colab": {
          "base_uri": "https://localhost:8080/",
          "height": 34
        }
      },
      "cell_type": "code",
      "source": [
        "df = df.loc[(df.INGRESSO != 2019)]\n",
        "df.INGRESSO.count()"
      ],
      "execution_count": 6,
      "outputs": [
        {
          "output_type": "execute_result",
          "data": {
            "text/plain": [
              "3395"
            ]
          },
          "metadata": {
            "tags": []
          },
          "execution_count": 6
        }
      ]
    },
    {
      "metadata": {
        "id": "mn92bq8y6r5x",
        "colab_type": "code",
        "colab": {}
      },
      "cell_type": "code",
      "source": [
        "# df = df.loc[(df.ANO != 2019)]\n",
        "# df.INGRESSO.count()"
      ],
      "execution_count": 0,
      "outputs": []
    },
    {
      "metadata": {
        "id": "j5f2I7P-7QRU",
        "colab_type": "code",
        "outputId": "2826eea2-b097-475e-e6ee-21f1f81fe813",
        "colab": {
          "base_uri": "https://localhost:8080/",
          "height": 204
        }
      },
      "cell_type": "code",
      "source": [
        "df['SEXO'] = 'Male'\n",
        "df.loc[df['GÊNERO'] == 'F', 'SEXO'] = 'Female'\n",
        "df = df.drop(columns='GÊNERO')\n",
        "df.head()"
      ],
      "execution_count": 7,
      "outputs": [
        {
          "output_type": "execute_result",
          "data": {
            "text/html": [
              "<div>\n",
              "<style scoped>\n",
              "    .dataframe tbody tr th:only-of-type {\n",
              "        vertical-align: middle;\n",
              "    }\n",
              "\n",
              "    .dataframe tbody tr th {\n",
              "        vertical-align: top;\n",
              "    }\n",
              "\n",
              "    .dataframe thead th {\n",
              "        text-align: right;\n",
              "    }\n",
              "</style>\n",
              "<table border=\"1\" class=\"dataframe\">\n",
              "  <thead>\n",
              "    <tr style=\"text-align: right;\">\n",
              "      <th></th>\n",
              "      <th>MATRICULA</th>\n",
              "      <th>INGRESSO</th>\n",
              "      <th>ANO</th>\n",
              "      <th>SEMESTRE</th>\n",
              "      <th>CR</th>\n",
              "      <th>CURSO</th>\n",
              "      <th>COTISTA</th>\n",
              "      <th>BAIXA_RENDA</th>\n",
              "      <th>DEFICIENCIA</th>\n",
              "      <th>RACA</th>\n",
              "      <th>SEXO</th>\n",
              "    </tr>\n",
              "  </thead>\n",
              "  <tbody>\n",
              "    <tr>\n",
              "      <th>0</th>\n",
              "      <td>200870401</td>\n",
              "      <td>2016</td>\n",
              "      <td>2016</td>\n",
              "      <td>2</td>\n",
              "      <td>7.70</td>\n",
              "      <td>CIÊNCIA DA COMPUTAÇÃO</td>\n",
              "      <td>False</td>\n",
              "      <td>False</td>\n",
              "      <td>False</td>\n",
              "      <td>BRANCO</td>\n",
              "      <td>Male</td>\n",
              "    </tr>\n",
              "    <tr>\n",
              "      <th>1</th>\n",
              "      <td>200870401</td>\n",
              "      <td>2016</td>\n",
              "      <td>2017</td>\n",
              "      <td>1</td>\n",
              "      <td>6.70</td>\n",
              "      <td>CIÊNCIA DA COMPUTAÇÃO</td>\n",
              "      <td>False</td>\n",
              "      <td>False</td>\n",
              "      <td>False</td>\n",
              "      <td>BRANCO</td>\n",
              "      <td>Male</td>\n",
              "    </tr>\n",
              "    <tr>\n",
              "      <th>2</th>\n",
              "      <td>200870401</td>\n",
              "      <td>2016</td>\n",
              "      <td>2017</td>\n",
              "      <td>2</td>\n",
              "      <td>6.62</td>\n",
              "      <td>CIÊNCIA DA COMPUTAÇÃO</td>\n",
              "      <td>False</td>\n",
              "      <td>False</td>\n",
              "      <td>False</td>\n",
              "      <td>BRANCO</td>\n",
              "      <td>Male</td>\n",
              "    </tr>\n",
              "    <tr>\n",
              "      <th>3</th>\n",
              "      <td>200870401</td>\n",
              "      <td>2016</td>\n",
              "      <td>2018</td>\n",
              "      <td>1</td>\n",
              "      <td>6.25</td>\n",
              "      <td>CIÊNCIA DA COMPUTAÇÃO</td>\n",
              "      <td>False</td>\n",
              "      <td>False</td>\n",
              "      <td>False</td>\n",
              "      <td>BRANCO</td>\n",
              "      <td>Male</td>\n",
              "    </tr>\n",
              "    <tr>\n",
              "      <th>4</th>\n",
              "      <td>200870401</td>\n",
              "      <td>2016</td>\n",
              "      <td>2018</td>\n",
              "      <td>2</td>\n",
              "      <td>6.39</td>\n",
              "      <td>CIÊNCIA DA COMPUTAÇÃO</td>\n",
              "      <td>False</td>\n",
              "      <td>False</td>\n",
              "      <td>False</td>\n",
              "      <td>BRANCO</td>\n",
              "      <td>Male</td>\n",
              "    </tr>\n",
              "  </tbody>\n",
              "</table>\n",
              "</div>"
            ],
            "text/plain": [
              "   MATRICULA  INGRESSO   ANO  SEMESTRE    CR                  CURSO  COTISTA  \\\n",
              "0  200870401      2016  2016         2  7.70  CIÊNCIA DA COMPUTAÇÃO    False   \n",
              "1  200870401      2016  2017         1  6.70  CIÊNCIA DA COMPUTAÇÃO    False   \n",
              "2  200870401      2016  2017         2  6.62  CIÊNCIA DA COMPUTAÇÃO    False   \n",
              "3  200870401      2016  2018         1  6.25  CIÊNCIA DA COMPUTAÇÃO    False   \n",
              "4  200870401      2016  2018         2  6.39  CIÊNCIA DA COMPUTAÇÃO    False   \n",
              "\n",
              "   BAIXA_RENDA  DEFICIENCIA    RACA  SEXO  \n",
              "0        False        False  BRANCO  Male  \n",
              "1        False        False  BRANCO  Male  \n",
              "2        False        False  BRANCO  Male  \n",
              "3        False        False  BRANCO  Male  \n",
              "4        False        False  BRANCO  Male  "
            ]
          },
          "metadata": {
            "tags": []
          },
          "execution_count": 7
        }
      ]
    },
    {
      "metadata": {
        "id": "8z7ujslz65Yn",
        "colab_type": "code",
        "outputId": "ef1cee5b-daf5-4c39-abac-b119db7ddb38",
        "colab": {
          "base_uri": "https://localhost:8080/",
          "height": 425
        }
      },
      "cell_type": "code",
      "source": [
        "# corrigindo tipos\n",
        "print(df.dtypes)\n",
        "df.CURSO = df.CURSO.astype('category')\n",
        "df.RACA = df.RACA.astype('category')\n",
        "df.SEXO = df.SEXO.astype('category')\n",
        "print(df.dtypes)"
      ],
      "execution_count": 8,
      "outputs": [
        {
          "output_type": "stream",
          "text": [
            "MATRICULA        int64\n",
            "INGRESSO         int64\n",
            "ANO              int64\n",
            "SEMESTRE         int64\n",
            "CR             float64\n",
            "CURSO           object\n",
            "COTISTA           bool\n",
            "BAIXA_RENDA       bool\n",
            "DEFICIENCIA       bool\n",
            "RACA            object\n",
            "SEXO            object\n",
            "dtype: object\n",
            "MATRICULA         int64\n",
            "INGRESSO          int64\n",
            "ANO               int64\n",
            "SEMESTRE          int64\n",
            "CR              float64\n",
            "CURSO          category\n",
            "COTISTA            bool\n",
            "BAIXA_RENDA        bool\n",
            "DEFICIENCIA        bool\n",
            "RACA           category\n",
            "SEXO           category\n",
            "dtype: object\n"
          ],
          "name": "stdout"
        }
      ]
    },
    {
      "metadata": {
        "id": "HT98QZ0vFfhp",
        "colab_type": "text"
      },
      "cell_type": "markdown",
      "source": [
        "## Analisando dados\n",
        "\n",
        "---\n",
        "\n"
      ]
    },
    {
      "metadata": {
        "id": "Zv5U7MYqFji8",
        "colab_type": "code",
        "outputId": "e6f97062-3331-4a5e-f175-bb692d32e521",
        "colab": {
          "base_uri": "https://localhost:8080/",
          "height": 34
        }
      },
      "cell_type": "code",
      "source": [
        "ingresso_2016 = df.loc[(df.INGRESSO == 2016) & (df.ANO == 2016)]['INGRESSO'].count() - df.loc[(df.INGRESSO == 2016) & (df.ANO == 2016) & (df.SEMESTRE == 1)]['INGRESSO'].count()\n",
        "ingresso_2017 = df.loc[(df.INGRESSO == 2017) & (df.ANO == 2017)]['INGRESSO'].count() - df.loc[(df.INGRESSO == 2017) & (df.ANO == 2017) & (df.SEMESTRE == 1)]['INGRESSO'].count()\n",
        "ingresso_2018 = df.loc[(df.INGRESSO == 2018) & (df.ANO == 2018)]['INGRESSO'].count() - df.loc[(df.INGRESSO == 2018) & (df.ANO == 2018) & (df.SEMESTRE == 1)]['INGRESSO'].count()\n",
        "print(f'2016: {ingresso_2016}, 2017: {ingresso_2017} e 2018: {ingresso_2018}')"
      ],
      "execution_count": 9,
      "outputs": [
        {
          "output_type": "stream",
          "text": [
            "2016: 279, 2017: 274 e 2018: 270\n"
          ],
          "name": "stdout"
        }
      ]
    },
    {
      "metadata": {
        "id": "JuLikJ25HiPo",
        "colab_type": "code",
        "colab": {}
      },
      "cell_type": "code",
      "source": [
        "from scipy import stats\n",
        "import matplotlib.pyplot as plt\n",
        "import numpy as np\n",
        "import seaborn as sns\n"
      ],
      "execution_count": 0,
      "outputs": []
    },
    {
      "metadata": {
        "id": "G9NCzHZEKstY",
        "colab_type": "code",
        "outputId": "fd56902b-2ab5-4a34-d737-dc0de895150f",
        "colab": {
          "base_uri": "https://localhost:8080/",
          "height": 34
        }
      },
      "cell_type": "code",
      "source": [
        "semestre_1_2016 = df.loc[(df.INGRESSO == 2016) & (df.ANO == 2016) & (df.SEMESTRE == 1)]\n",
        "semestre_2_2016 = df.loc[(df.INGRESSO == 2016) & (df.ANO == 2016) & (df.SEMESTRE == 2)]\n",
        "todos_2016 = pd.concat([semestre_1_2016, pd.DataFrame([semestre_2_2016.loc[index] for index in semestre_2_2016.index if semestre_2_2016.loc[index, 'MATRICULA'] not in list(semestre_1_2016.MATRICULA)])])\n",
        "\n",
        "semestre_1_2017 = df.loc[(df.INGRESSO == 2017) & (df.ANO == 2017) & (df.SEMESTRE == 1)]\n",
        "semestre_2_2017 = df.loc[(df.INGRESSO == 2017) & (df.ANO == 2017) & (df.SEMESTRE == 2)]\n",
        "todos_2017 = pd.concat([semestre_1_2017, pd.DataFrame([semestre_2_2017.loc[index] for index in semestre_2_2017.index if semestre_2_2017.loc[index, 'MATRICULA'] not in list(semestre_1_2017.MATRICULA)])])\n",
        "\n",
        "semestre_1_2018 = df.loc[(df.INGRESSO == 2018) & (df.ANO == 2018) & (df.SEMESTRE == 1)]\n",
        "semestre_2_2018 = df.loc[(df.INGRESSO == 2018) & (df.ANO == 2018) & (df.SEMESTRE == 2)]\n",
        "todos_2018 = pd.concat([semestre_1_2018, pd.DataFrame([semestre_2_2018.loc[index] for index in semestre_2_2018.index if semestre_2_2018.loc[index, 'MATRICULA'] not in list(semestre_1_2018.MATRICULA)])])\n",
        "\n",
        "print(f'2016: {todos_2016.shape[0]}, 2017: {todos_2017.shape[0]} e 2018: {todos_2018.shape[0]}')"
      ],
      "execution_count": 11,
      "outputs": [
        {
          "output_type": "stream",
          "text": [
            "2016: 282, 2017: 279 e 2018: 278\n"
          ],
          "name": "stdout"
        }
      ]
    },
    {
      "metadata": {
        "id": "pjwSML08dehK",
        "colab_type": "text"
      },
      "cell_type": "markdown",
      "source": [
        "A diferença entre os 2 cálculos se dá pelo fato de pessoas que entraram no 1º semestre se desligarem logo no primeiro período."
      ]
    },
    {
      "metadata": {
        "id": "BLPTVQHr-SCA",
        "colab_type": "text"
      },
      "cell_type": "markdown",
      "source": [
        "Cálculo de desistência\n",
        "\n",
        "---\n",
        "\n",
        "Os matriculados em 2019 são os que NÃO desistiram, portanto os que desistiram são aqueles que entraram em 2016, 2017 ou 2018 e não estão matriculados em 2019.\n",
        "\n",
        "\n",
        "*   Juntar os que entraram em 2016, 2017 e 2018\n",
        "*   Excluir aqueles que estão matriculados em 2019\n",
        "\n",
        "\n"
      ]
    },
    {
      "metadata": {
        "id": "nDvVsZdT6Rhv",
        "colab_type": "code",
        "colab": {}
      },
      "cell_type": "code",
      "source": [
        "# Contando todas as desistências\n",
        "matriculados_2019 = df.loc[df.ANO == 2019]\n",
        "todos = pd.concat([todos_2016, todos_2017, todos_2018], sort=False)\n",
        "\n",
        "dropout = pd.DataFrame([todos.loc[index] for index in todos.index if todos.loc[index, 'MATRICULA'] not in list(matriculados_2019.MATRICULA)])\n",
        "\n",
        "assert dropout.shape[0] == (todos.shape[0]-matriculados_2019.shape[0])"
      ],
      "execution_count": 0,
      "outputs": []
    },
    {
      "metadata": {
        "id": "2LGEoZi-di_h",
        "colab_type": "text"
      },
      "cell_type": "markdown",
      "source": [
        "### Comparação entre sexo feminino e masculino\n",
        "\n",
        "---\n",
        "\n"
      ]
    },
    {
      "metadata": {
        "id": "-QrfPkb3gzju",
        "colab_type": "code",
        "outputId": "44866fd7-8ca7-49c9-b18e-ab5233f7be56",
        "colab": {
          "base_uri": "https://localhost:8080/",
          "height": 51
        }
      },
      "cell_type": "code",
      "source": [
        "female_2016 = todos_2016.loc[todos_2016.SEXO == 'Female']\n",
        "male_2016 = todos_2016.loc[todos_2016.SEXO == 'Male']\n",
        "\n",
        "female_2017 = todos_2017.loc[todos_2017.SEXO == 'Female']\n",
        "male_2017 = todos_2017.loc[todos_2017.SEXO == 'Male']\n",
        "\n",
        "female_2018 = todos_2018.loc[todos_2018.SEXO == 'Female']\n",
        "male_2018 = todos_2018.loc[todos_2018.SEXO == 'Male']\n",
        "\n",
        "all_female = pd.concat([female_2016, female_2017, female_2018], sort=True)\n",
        "all_male = pd.concat([male_2016, male_2017, male_2018], sort=True)\n",
        "\n",
        "print(f'feminino: {all_female.shape[0]}, masculino: {all_male.shape[0]}.')\n",
        "print('Porcentagem feminina: {0:.1f}%'.format(all_female.shape[0]/(all_female.shape[0]+all_male.shape[0])*100))"
      ],
      "execution_count": 13,
      "outputs": [
        {
          "output_type": "stream",
          "text": [
            "feminino: 104, masculino: 735.\n",
            "Porcentagem feminina: 12.4%\n"
          ],
          "name": "stdout"
        }
      ]
    },
    {
      "metadata": {
        "id": "Hhg0RSjjykpn",
        "colab_type": "code",
        "outputId": "94958a63-0937-4526-ed69-cdebbce14037",
        "colab": {
          "base_uri": "https://localhost:8080/",
          "height": 298
        }
      },
      "cell_type": "code",
      "source": [
        "# Comparando quantidade\n",
        "f_cursos = all_female.groupby('CURSO')['SEXO'].count()\n",
        "\n",
        "m_cursos = all_male.groupby('CURSO')['SEXO'].count()\n",
        "\n",
        "data = {'CURSO': ['CC', 'CC', 'EC', 'EC', 'SI', 'SI'],\n",
        "       'SEXO': ['Female', 'Male', 'Female', 'Male', 'Female', 'Male'],\n",
        "       'COUNT': [f_cursos[0]/(f_cursos[0]+m_cursos[0])*100, m_cursos[0]/(f_cursos[0]+m_cursos[0])*100,\n",
        "                f_cursos[1]/(f_cursos[1]+m_cursos[1])*100, m_cursos[1]/(f_cursos[1]+m_cursos[1])*100,\n",
        "                f_cursos[2]/(f_cursos[2]+m_cursos[2])*100, m_cursos[2]/(f_cursos[2]+m_cursos[2])*100]}\n",
        "\n",
        "dfFM = pd.DataFrame(data=data)\n",
        "ax = sns.barplot(x=\"CURSO\", y=\"COUNT\", hue=\"SEXO\", data=dfFM)\n",
        "\n",
        "ax.set_title(\"Masculino x Feminino\")\n",
        "ax.set_ylabel(\"Porcentagem\")\n",
        "ax.set_xlabel('')"
      ],
      "execution_count": 14,
      "outputs": [
        {
          "output_type": "execute_result",
          "data": {
            "text/plain": [
              "Text(0.5, 0, '')"
            ]
          },
          "metadata": {
            "tags": []
          },
          "execution_count": 14
        },
        {
          "output_type": "display_data",
          "data": {
            "image/png": "[encoded data removed]",
            "text/plain": [
              "<Figure size 432x288 with 1 Axes>"
            ]
          },
          "metadata": {
            "tags": []
          }
        }
      ]
    },
    {
      "metadata": {
        "id": "QIh0L5BggwIZ",
        "colab_type": "code",
        "outputId": "bfa36b49-0980-4a10-9f84-fe0ea8c9acdb",
        "colab": {
          "base_uri": "https://localhost:8080/",
          "height": 298
        }
      },
      "cell_type": "code",
      "source": [
        "# Comparando média CRs\n",
        "\n",
        "f = all_female.groupby('CURSO')['CR'].mean()\n",
        "\n",
        "m = all_male.groupby('CURSO')['CR'].mean()\n",
        "\n",
        "data = {'CURSO': ['CC', 'CC', 'EC', 'EC', 'SI', 'SI'],\n",
        "       'SEXO': ['Female', 'Male', 'Female', 'Male', 'Female', 'Male'],\n",
        "       'MEAN': [f[0], m[0], f[1], m[1], f[2], m[2]]}\n",
        "\n",
        "dfFM = pd.DataFrame(data=data)\n",
        "ax = sns.barplot(x=\"CURSO\", y=\"MEAN\", hue=\"SEXO\", data=dfFM)\n",
        "\n",
        "ax.set_title(\"Média CRs\")\n",
        "ax.set_ylabel(\"CR\")\n",
        "ax.set_xlabel('')"
      ],
      "execution_count": 15,
      "outputs": [
        {
          "output_type": "execute_result",
          "data": {
            "text/plain": [
              "Text(0.5, 0, '')"
            ]
          },
          "metadata": {
            "tags": []
          },
          "execution_count": 15
        },
        {
          "output_type": "display_data",
          "data": {
            "image/png": "[encoded data removed]",
            "text/plain": [
              "<Figure size 432x288 with 1 Axes>"
            ]
          },
          "metadata": {
            "tags": []
          }
        }
      ]
    },
    {
      "metadata": {
        "id": "pDUxb8r73rf3",
        "colab_type": "text"
      },
      "cell_type": "markdown",
      "source": [
        "Há diferença significativa entre as amostras de notas do sexo masculino e do feminino?\n",
        "\n",
        "---\n",
        "\n",
        "Hipótese nula: as amostras são \"iguais\""
      ]
    },
    {
      "metadata": {
        "id": "XqJ69RGJ2lwF",
        "colab_type": "code",
        "outputId": "29b5c0c3-151c-455d-f457-8c41d1aea30c",
        "colab": {
          "base_uri": "https://localhost:8080/",
          "height": 34
        }
      },
      "cell_type": "code",
      "source": [
        "result = stats.anderson(pd.concat([all_female, all_male], sort=False).CR)\n",
        "print(f\"stat: {result.statistic}, pvalue: {result.critical_values}\")"
      ],
      "execution_count": 16,
      "outputs": [
        {
          "output_type": "stream",
          "text": [
            "stat: 31.676603156329065, pvalue: [0.573 0.653 0.783 0.914 1.087]\n"
          ],
          "name": "stdout"
        }
      ]
    },
    {
      "metadata": {
        "id": "4px6O1ZR3eYm",
        "colab_type": "code",
        "outputId": "c5103750-406a-4678-b381-15c52fa1a045",
        "colab": {
          "base_uri": "https://localhost:8080/",
          "height": 34
        }
      },
      "cell_type": "code",
      "source": [
        "stat, pvalue = stats.ttest_ind(all_female.CR, all_male.CR)\n",
        "print(f\"stat: {stat}, pvalue: {pvalue}\")"
      ],
      "execution_count": 17,
      "outputs": [
        {
          "output_type": "stream",
          "text": [
            "stat: -0.881446206574836, pvalue: 0.3783294009690097\n"
          ],
          "name": "stdout"
        }
      ]
    },
    {
      "metadata": {
        "id": "GmgoexNd30Ez",
        "colab_type": "text"
      },
      "cell_type": "markdown",
      "source": [
        "Não há diferença estatística, já que o pvalue ficou acima do nível de significância (0.05) e, portanto, a hipótese nula não foi refutada."
      ]
    },
    {
      "metadata": {
        "id": "oAQovhqUdtQX",
        "colab_type": "code",
        "outputId": "d6c52eb0-34af-4104-80f6-ab64a895b113",
        "colab": {
          "base_uri": "https://localhost:8080/",
          "height": 298
        }
      },
      "cell_type": "code",
      "source": [
        "# Comparando desistências\n",
        "f_dropout = dropout.loc[dropout.SEXO == 'Female']\n",
        "m_dropout = dropout.loc[dropout.SEXO == 'Male']\n",
        "\n",
        "f = f_dropout.groupby('CURSO')['SEXO'].count()\n",
        "all_f = all_female.groupby('CURSO')['SEXO'].count()\n",
        "\n",
        "m = m_dropout.groupby('CURSO')['SEXO'].count()\n",
        "all_m = all_male.groupby('CURSO')['SEXO'].count()\n",
        "\n",
        "data = {'CURSO': ['CC', 'CC', 'EC', 'EC', 'SI', 'SI'],\n",
        "       'SEXO': ['Female', 'Male', 'Female', 'Male', 'Female', 'Male'],\n",
        "       'COUNT': [f[0]/all_f[0] *100, m[0]/all_m[0] *100, f[1]/all_f[1] *100, m[1]/all_m[1] *100, f[2]/all_f[2] *100, m[2]/all_m[2] *100]}\n",
        "\n",
        "dfFM = pd.DataFrame(data=data)\n",
        "ax = sns.barplot(x=\"CURSO\", y=\"COUNT\", hue=\"SEXO\", data=dfFM)\n",
        "\n",
        "ax.set_title(\"Desistências\")\n",
        "ax.set_ylabel(\"Porcentagem\")\n",
        "ax.set_xlabel('')"
      ],
      "execution_count": 18,
      "outputs": [
        {
          "output_type": "execute_result",
          "data": {
            "text/plain": [
              "Text(0.5, 0, '')"
            ]
          },
          "metadata": {
            "tags": []
          },
          "execution_count": 18
        },
        {
          "output_type": "display_data",
          "data": {
            "image/png": "[encoded data removed]",
            "text/plain": [
              "<Figure size 432x288 with 1 Axes>"
            ]
          },
          "metadata": {
            "tags": []
          }
        }
      ]
    },
    {
      "metadata": {
        "id": "J0pcSnODeox2",
        "colab_type": "text"
      },
      "cell_type": "markdown",
      "source": [
        "### Comparação entre cotista e não-cotista\n",
        "\n",
        "---\n",
        "\n"
      ]
    },
    {
      "metadata": {
        "id": "utQ7oH86etjW",
        "colab_type": "code",
        "colab": {}
      },
      "cell_type": "code",
      "source": [
        "cotista = todos.loc[todos.COTISTA]\n",
        "nao_cotista = todos.loc[todos.COTISTA == False]\n",
        "\n",
        "baixa_renda = cotista.loc[cotista.BAIXA_RENDA]\n",
        "deficiencia = cotista.loc[cotista.DEFICIENCIA]\n",
        "racial = cotista.loc[cotista.RACA != 'BRANCO']"
      ],
      "execution_count": 0,
      "outputs": []
    },
    {
      "metadata": {
        "id": "eo619zAegdrS",
        "colab_type": "code",
        "outputId": "0f7ead19-ecf7-44bf-82df-ca7d50c713d4",
        "colab": {
          "base_uri": "https://localhost:8080/",
          "height": 298
        }
      },
      "cell_type": "code",
      "source": [
        "# Visualização de cotas\n",
        "count_cotistas = cotista.groupby('CURSO')['COTISTA'].count()\n",
        "count_br = baixa_renda.groupby('CURSO')['BAIXA_RENDA'].count()\n",
        "count_d = deficiencia.groupby('CURSO')['DEFICIENCIA'].count()\n",
        "count_r = racial.groupby('CURSO')['RACA'].count()\n",
        "\n",
        "data = {'CURSO': ['CC', 'CC', 'CC', 'EC', 'EC', 'EC', 'SI', 'SI', 'SI'],\n",
        "       'TIPO': ['Baixa Renda', 'Deficiência', 'Racial', 'Baixa Renda', 'Deficiência', 'Racial', 'Baixa Renda', 'Deficiência', 'Racial'],\n",
        "       'COUNT': [count_br[0]/count_cotistas[0] * 100, count_d[0]/count_cotistas[0] * 100, count_r[0]/count_cotistas[0] * 100,\n",
        "                count_br[1]/count_cotistas[1] * 100, count_d[1]/count_cotistas[1] * 100, count_r[1]/count_cotistas[1] * 100,\n",
        "                count_br[2]/count_cotistas[2] * 100, count_d[2]/count_cotistas[2] * 100, count_r[2]/count_cotistas[2] * 100]}\n",
        "\n",
        "dfC = pd.DataFrame(data=data)\n",
        "ax = sns.barplot(x=\"CURSO\", y=\"COUNT\", hue=\"TIPO\", data=dfC)\n",
        "\n",
        "ax.set_title(\"Tipos de Cotas\")\n",
        "ax.set_ylabel(\"Porcentagem\")\n",
        "ax.set_xlabel('')"
      ],
      "execution_count": 20,
      "outputs": [
        {
          "output_type": "execute_result",
          "data": {
            "text/plain": [
              "Text(0.5, 0, '')"
            ]
          },
          "metadata": {
            "tags": []
          },
          "execution_count": 20
        },
        {
          "output_type": "display_data",
          "data": {
            "image/png": "[encoded data removed]",
            "text/plain": [
              "<Figure size 432x288 with 1 Axes>"
            ]
          },
          "metadata": {
            "tags": []
          }
        }
      ]
    },
    {
      "metadata": {
        "id": "qA9_5cdYkz-z",
        "colab_type": "code",
        "outputId": "56ef0120-04e3-4853-eb06-51f6f1bd0cb1",
        "colab": {
          "base_uri": "https://localhost:8080/",
          "height": 298
        }
      },
      "cell_type": "code",
      "source": [
        "# Comparando média CRs\n",
        "mean_c = cotista.groupby('CURSO')['CR'].mean()\n",
        "mean_nao_c = nao_cotista.groupby('CURSO')['CR'].mean()\n",
        "\n",
        "data = {'CURSO': ['CC', 'CC', 'EC', 'EC', 'SI', 'SI'],\n",
        "       'TIPO': ['Cotista', 'Não Cotista', 'Cotista', 'Não Cotista', 'Cotista', 'Não Cotista'],\n",
        "       'MEAN': [mean_c[0], mean_nao_c[0], mean_c[1], mean_nao_c[1], mean_c[2], mean_nao_c[2]]}\n",
        "\n",
        "dfC = pd.DataFrame(data=data)\n",
        "ax = sns.barplot(x=\"CURSO\", y=\"MEAN\", hue=\"TIPO\", data=dfC)\n",
        "\n",
        "ax.set_title(\"Média CRs\")\n",
        "ax.set_ylabel(\"CR\")\n",
        "ax.set_xlabel('')"
      ],
      "execution_count": 21,
      "outputs": [
        {
          "output_type": "execute_result",
          "data": {
            "text/plain": [
              "Text(0.5, 0, '')"
            ]
          },
          "metadata": {
            "tags": []
          },
          "execution_count": 21
        },
        {
          "output_type": "display_data",
          "data": {
            "image/png": "[encoded data removed]",
            "text/plain": [
              "<Figure size 432x288 with 1 Axes>"
            ]
          },
          "metadata": {
            "tags": []
          }
        }
      ]
    },
    {
      "metadata": {
        "id": "mj4lN7mzmGe7",
        "colab_type": "code",
        "outputId": "5c2972e5-cc54-4c67-ad6c-308ac230cb45",
        "colab": {
          "base_uri": "https://localhost:8080/",
          "height": 298
        }
      },
      "cell_type": "code",
      "source": [
        "# Comparando desistências\n",
        "c_dropout = dropout.loc[dropout.COTISTA]\n",
        "nao_c_dropout = dropout.loc[dropout.COTISTA == False]\n",
        "\n",
        "count_c_dropout = c_dropout.groupby('CURSO')['COTISTA'].count()\n",
        "count_nao_c_dropout = nao_c_dropout.groupby('CURSO')['COTISTA'].count()\n",
        "\n",
        "count_nao_cotistas = nao_cotista.groupby('CURSO')['COTISTA'].count()\n",
        "\n",
        "data = {'CURSO': ['CC', 'CC', 'EC', 'EC', 'SI', 'SI'],\n",
        "       'SEXO': ['Cotista', 'Não Cotista', 'Cotista', 'Não Cotista', 'Cotista', 'Não Cotista'],\n",
        "       'COUNT': [count_c_dropout[0]/count_cotistas[0] * 100, count_nao_c_dropout[0]/count_nao_cotistas[0] * 100,\n",
        "                count_c_dropout[1]/count_cotistas[1] * 100, count_nao_c_dropout[1]/count_nao_cotistas[1] * 100,\n",
        "                count_c_dropout[2]/count_cotistas[2] * 100, count_nao_c_dropout[2]/count_nao_cotistas[2] * 100]}\n",
        "\n",
        "dfFM = pd.DataFrame(data=data)\n",
        "ax = sns.barplot(x=\"CURSO\", y=\"COUNT\", hue=\"SEXO\", data=dfFM)\n",
        "\n",
        "ax.set_title(\"Desistências\")\n",
        "ax.set_ylabel(\"Porcentagem\")\n",
        "ax.set_xlabel('')"
      ],
      "execution_count": 22,
      "outputs": [
        {
          "output_type": "execute_result",
          "data": {
            "text/plain": [
              "Text(0.5, 0, '')"
            ]
          },
          "metadata": {
            "tags": []
          },
          "execution_count": 22
        },
        {
          "output_type": "display_data",
          "data": {
            "image/png": "[encoded data removed]",
            "text/plain": [
              "<Figure size 432x288 with 1 Axes>"
            ]
          },
          "metadata": {
            "tags": []
          }
        }
      ]
    },
    {
      "metadata": {
        "id": "l4kX_nkC1z9f",
        "colab_type": "text"
      },
      "cell_type": "markdown",
      "source": [
        "\n",
        "### Comparação entre brancos x pretos/pardos/indígenas\n",
        "---\n",
        "\n"
      ]
    },
    {
      "metadata": {
        "id": "I4p7MINR17l3",
        "colab_type": "code",
        "colab": {}
      },
      "cell_type": "code",
      "source": [
        "b = todos.loc[todos.RACA == 'BRANCO']\n",
        "ppi = todos.loc[todos.RACA == 'PRETO/PARDO/INDIGENA']"
      ],
      "execution_count": 0,
      "outputs": []
    },
    {
      "metadata": {
        "id": "zSc7byam2FnS",
        "colab_type": "code",
        "colab": {}
      },
      "cell_type": "code",
      "source": [
        "b_mean = b.groupby('CURSO')['CR'].mean()\n",
        "ppi_mean = ppi.groupby('CURSO')['CR'].mean()"
      ],
      "execution_count": 0,
      "outputs": []
    },
    {
      "metadata": {
        "id": "ZwXXjmMw2GzO",
        "colab_type": "code",
        "colab": {
          "base_uri": "https://localhost:8080/",
          "height": 298
        },
        "outputId": "6cfcc8d3-2afc-4255-cc03-cc09a9f0ffe9"
      },
      "cell_type": "code",
      "source": [
        "# Comparando média CRs\n",
        "\n",
        "data = {'CURSO': ['CC', 'CC', 'EC', 'EC', 'SI', 'SI'],\n",
        "       'TIPO': ['Branco', 'Preto/Pardo/Indígena', 'Branco', 'Preto/Pardo/Indígena', 'Branco', 'Preto/Pardo/Indígena'],\n",
        "       'MEAN': [b_mean['CIÊNCIA DA COMPUTAÇÃO'], ppi_mean['CIÊNCIA DA COMPUTAÇÃO'], \n",
        "                b_mean['ENGENHARIA DA COMPUTAÇÃO'], ppi_mean['ENGENHARIA DA COMPUTAÇÃO'], \n",
        "                b_mean['SISTEMAS DE INFORMAÇÃO'], ppi_mean['SISTEMAS DE INFORMAÇÃO']]}\n",
        "\n",
        "dfC = pd.DataFrame(data=data)\n",
        "ax = sns.barplot(x=\"CURSO\", y=\"MEAN\", hue=\"TIPO\", data=dfC)\n",
        "\n",
        "ax.set_title(\"Média CRs\")\n",
        "ax.set_ylabel(\"CR\")\n",
        "ax.set_xlabel('')"
      ],
      "execution_count": 25,
      "outputs": [
        {
          "output_type": "execute_result",
          "data": {
            "text/plain": [
              "Text(0.5, 0, '')"
            ]
          },
          "metadata": {
            "tags": []
          },
          "execution_count": 25
        },
        {
          "output_type": "display_data",
          "data": {
            "image/png": "[encoded data removed]",
            "text/plain": [
              "<Figure size 432x288 with 1 Axes>"
            ]
          },
          "metadata": {
            "tags": []
          }
        }
      ]
    },
    {
      "metadata": {
        "id": "tHf6Gxts2P-4",
        "colab_type": "code",
        "colab": {
          "base_uri": "https://localhost:8080/",
          "height": 298
        },
        "outputId": "ee1e72c0-fd8c-48f5-ecfb-27bdb5bbfa5d"
      },
      "cell_type": "code",
      "source": [
        "# Comparando desistências\n",
        "\n",
        "b_dropout = dropout.loc[dropout.RACA == 'BRANCO']\n",
        "ppi_dropout = dropout.loc[dropout.RACA == 'PRETO/PARDO/INDIGENA']\n",
        "\n",
        "count_b_dropout = b_dropout.groupby('CURSO')['RACA'].count()\n",
        "count_ppi_dropout = ppi_dropout.groupby('CURSO')['RACA'].count()\n",
        "\n",
        "count_b = b.groupby('CURSO')['RACA'].count()\n",
        "count_ppi = ppi.groupby('CURSO')['RACA'].count()\n",
        "\n",
        "data = {'CURSO': ['CC', 'CC', 'EC', 'EC', 'SI', 'SI'],\n",
        "       'RACA': ['Branco', 'Preto/Pardo/Indígena', 'Branco', 'Preto/Pardo/Indígena', 'Branco', 'Preto/Pardo/Indígena'],\n",
        "       'COUNT': [count_b_dropout['CIÊNCIA DA COMPUTAÇÃO']/count_b['CIÊNCIA DA COMPUTAÇÃO'] * 100, count_ppi_dropout['CIÊNCIA DA COMPUTAÇÃO']/count_ppi['CIÊNCIA DA COMPUTAÇÃO'] * 100,\n",
        "                count_b_dropout['ENGENHARIA DA COMPUTAÇÃO']/count_b['ENGENHARIA DA COMPUTAÇÃO'] * 100, count_ppi_dropout['ENGENHARIA DA COMPUTAÇÃO']/count_ppi['ENGENHARIA DA COMPUTAÇÃO'] * 100,\n",
        "                count_b_dropout['SISTEMAS DE INFORMAÇÃO']/count_b['SISTEMAS DE INFORMAÇÃO'] * 100, count_ppi_dropout['SISTEMAS DE INFORMAÇÃO']/count_ppi['SISTEMAS DE INFORMAÇÃO'] * 100]}\n",
        "\n",
        "dfR = pd.DataFrame(data=data)\n",
        "ax = sns.barplot(x=\"CURSO\", y=\"COUNT\", hue=\"RACA\", data=dfR)\n",
        "\n",
        "ax.set_title(\"Desistências\")\n",
        "ax.set_ylabel(\"Porcentagem\")\n",
        "ax.set_xlabel('')"
      ],
      "execution_count": 26,
      "outputs": [
        {
          "output_type": "execute_result",
          "data": {
            "text/plain": [
              "Text(0.5, 0, '')"
            ]
          },
          "metadata": {
            "tags": []
          },
          "execution_count": 26
        },
        {
          "output_type": "display_data",
          "data": {
            "image/png": "[encoded data removed]",
            "text/plain": [
              "<Figure size 432x288 with 1 Axes>"
            ]
          },
          "metadata": {
            "tags": []
          }
        }
      ]
    },
    {
      "metadata": {
        "id": "o6furTEq2Urz",
        "colab_type": "code",
        "colab": {
          "base_uri": "https://localhost:8080/",
          "height": 119
        },
        "outputId": "2e94ee2b-0c43-4538-cb93-d0bce15cc5c8"
      },
      "cell_type": "code",
      "source": [
        "print(f\"Contagem:\\nQuantidade de alunos (que entraram a partir de 2016) no CIn: {todos.shape[0]}\\nQuantidade de brancos: {b.shape[0]}\\nQuantidade de negros/pardos/indígenas: {ppi.shape[0]}\\nQuantidade de brancos desistentes: {b_dropout.shape[0]}\\nQuantidade de pretos/pardos/indígenas desistentes: {ppi_dropout.shape[0]}\")"
      ],
      "execution_count": 27,
      "outputs": [
        {
          "output_type": "stream",
          "text": [
            "Contagem:\n",
            "Quantidade de alunos (que entraram a partir de 2016) no CIn: 839\n",
            "Quantidade de brancos: 563\n",
            "Quantidade de negros/pardos/indígenas: 276\n",
            "Quantidade de brancos desistentes: 90\n",
            "Quantidade de pretos/pardos/indígenas desistentes: 54\n"
          ],
          "name": "stdout"
        }
      ]
    },
    {
      "metadata": {
        "id": "PP2sgSTc9D6J",
        "colab_type": "code",
        "colab": {
          "base_uri": "https://localhost:8080/",
          "height": 286
        },
        "outputId": "bc8a2a5e-d0d3-4954-a2ca-ec91df68c88f"
      },
      "cell_type": "code",
      "source": [
        "data = {'TIPO': ['Total', 'Total', 'Desistentes', 'Desistentes'],\n",
        "       'RACA': ['Branco', 'Preto/Pardo/Indígena', 'Branco', 'Preto/Pardo/Indígena'],\n",
        "       'COUNT': [b.shape[0]/todos.shape[0]*100, ppi.shape[0]/todos.shape[0]*100, b_dropout.shape[0]/dropout.shape[0]*100, ppi_dropout.shape[0]/dropout.shape[0]*100]}\n",
        "\n",
        "dfC = pd.DataFrame(data=data)\n",
        "ax = sns.barplot(x=\"TIPO\", y=\"COUNT\", hue=\"RACA\", data=dfC)\n",
        "\n",
        "ax.set_ylabel(\"Porcentagem\")\n",
        "ax.set_xlabel('')"
      ],
      "execution_count": 32,
      "outputs": [
        {
          "output_type": "execute_result",
          "data": {
            "text/plain": [
              "Text(0.5, 0, '')"
            ]
          },
          "metadata": {
            "tags": []
          },
          "execution_count": 32
        },
        {
          "output_type": "display_data",
          "data": {
            "image/png": "[encoded data removed]",
            "text/plain": [
              "<Figure size 432x288 with 1 Axes>"
            ]
          },
          "metadata": {
            "tags": []
          }
        }
      ]
    }
  ]
}