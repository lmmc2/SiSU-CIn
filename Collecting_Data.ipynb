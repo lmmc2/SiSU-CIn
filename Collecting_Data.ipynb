{
  "nbformat": 4,
  "nbformat_minor": 0,
  "metadata": {
    "colab": {
      "name": "Collecting Data.ipynb",
      "version": "0.3.2",
      "provenance": []
    },
    "kernelspec": {
      "name": "python3",
      "display_name": "Python 3"
    }
  },
  "cells": [
    {
      "metadata": {
        "id": "Ol4VlVDZu9Jm",
        "colab_type": "text"
      },
      "cell_type": "markdown",
      "source": [
        "# **Coletando dados: SiSU UFPE**\n",
        "\n",
        "---\n",
        "Dados retirados de: https://www.ufpe.br/formas-de-ingresso/sisu-ufpe \n",
        "\n",
        "\n",
        "*   Anos: 2016, 2017, 2018 e 2019\n",
        "*   Listagem dos candidatos classificados na 1ª chamada\n",
        "*   A UFPE adotou o SiSU desde o vestibular do ano 2015, porém as cotas só foram inseridas na listagem divulgada para o público em 2016, por isso os dados escolhidos foram a partir de 2016\n",
        "\n",
        "###Como são as modalidades de cotas na UFPE?\n",
        "\n",
        "É válido destacar que qualquer modalidade de cota necessariamente o candidato deve ter cursado integralmente o ensino médio em escolas públicas.\n",
        "\n",
        "Têm direito a cotas candidatos:\n",
        "*   com renda familiar bruta per capita igual ou inferior a 1,5 salário mínimo\n",
        "*   autodeclarados pretos, pardos ou indígenas\n",
        "*   com deficiência\n",
        "\n",
        "As modalidades são combinações desses pontos.\n",
        "\n"
      ]
    },
    {
      "metadata": {
        "id": "_WMuU7_0xtEi",
        "colab_type": "text"
      },
      "cell_type": "markdown",
      "source": [
        "##Como os dados foram coletados\n",
        "\n",
        "---\n",
        "\n",
        "*   Os listões da UFPE são disponibilizados apenas em formato PDF\n",
        "\n",
        "Exemplo de listão:\n",
        "\n",
        "![listao](https://res.cloudinary.com/dgs7vlgfb/image/upload/v1554841888/Captura_de_Tela_2019-04-09_a%CC%80s_17.25.46.png)\n",
        "\n",
        "\n",
        "Passo a passo:\n",
        "\n",
        "1.   Foi utilizada uma [ferramenta](https://www.pdfmerge.com/pt/) para juntar os PDFs de todos os anos em um só\n",
        "2.   Tendo um arquivo com todos os PDFs, foi utilizada outra [ferramenta](https://www.zamzar.com/) para a conversão para CSV\n",
        "3.    Não foi possível utilizar a função direta do pandas para criação do dataframe, como é possível ver abaixo. Seria necessário olhar linha por linha do CSV para retirada do \"lixo\" e identificação de curso e ano, portanto foi escolhido criar o dataframe enquanto a leitura estava sendo feita\n",
        "\n"
      ]
    },
    {
      "metadata": {
        "id": "RUoFoJoNw22i",
        "colab_type": "code",
        "outputId": "38e3e31c-34bd-4842-9116-b0918681e113",
        "colab": {
          "base_uri": "https://localhost:8080/"
        }
      },
      "cell_type": "code",
      "source": [
        "#get file\n",
        "from google.colab import files\n",
        "uploaded = files.upload()\n",
        "for fn in uploaded.keys():\n",
        "  print('User uploaded file \"{name}\" with length {length} bytes'.format(name=fn, length=len(uploaded[fn])))"
      ],
      "execution_count": 0,
      "outputs": [
        {
          "output_type": "display_data",
          "data": {
            "text/html": [
              "\n",
              "     <input type=\"file\" id=\"files-e6861247-b2da-4369-abb8-cce3646885b9\" name=\"files[]\" multiple disabled />\n",
              "     <output id=\"result-e6861247-b2da-4369-abb8-cce3646885b9\">\n",
              "      Upload widget is only available when the cell has been executed in the\n",
              "      current browser session. Please rerun this cell to enable.\n",
              "      </output>\n",
              "      <script src=\"/nbextensions/google.colab/files.js\"></script> "
            ],
            "text/plain": [
              "<IPython.core.display.HTML object>"
            ]
          },
          "metadata": {
            "tags": []
          }
        }
      ]
    },
    {
      "metadata": {
        "id": "04TY1Ez7xSgL",
        "colab_type": "code",
        "colab": {}
      },
      "cell_type": "code",
      "source": [
        "import csv, re\n",
        "import pandas as pd"
      ],
      "execution_count": 0,
      "outputs": []
    },
    {
      "metadata": {
        "id": "PPOsEge71vyh",
        "colab_type": "code",
        "outputId": "92a6b33f-e298-4660-bf2c-48de117e1b76",
        "colab": {
          "base_uri": "https://localhost:8080/",
          "height": 306
        }
      },
      "cell_type": "code",
      "source": [
        "dfTeste = pd.read_csv('Sisu16-19.csv', header = None)\n",
        "dfTeste.head()"
      ],
      "execution_count": 0,
      "outputs": [
        {
          "output_type": "execute_result",
          "data": {
            "text/html": [
              "<div>\n",
              "<style scoped>\n",
              "    .dataframe tbody tr th:only-of-type {\n",
              "        vertical-align: middle;\n",
              "    }\n",
              "\n",
              "    .dataframe tbody tr th {\n",
              "        vertical-align: top;\n",
              "    }\n",
              "\n",
              "    .dataframe thead th {\n",
              "        text-align: right;\n",
              "    }\n",
              "</style>\n",
              "<table border=\"1\" class=\"dataframe\">\n",
              "  <thead>\n",
              "    <tr style=\"text-align: right;\">\n",
              "      <th></th>\n",
              "      <th>0</th>\n",
              "      <th>1</th>\n",
              "      <th>2</th>\n",
              "      <th>3</th>\n",
              "      <th>4</th>\n",
              "      <th>5</th>\n",
              "      <th>6</th>\n",
              "      <th>7</th>\n",
              "      <th>8</th>\n",
              "      <th>9</th>\n",
              "    </tr>\n",
              "  </thead>\n",
              "  <tbody>\n",
              "    <tr>\n",
              "      <th>0</th>\n",
              "      <td>UFPE</td>\n",
              "      <td>-</td>\n",
              "      <td>SISU</td>\n",
              "      <td>-</td>\n",
              "      <td>SISTEMA DE SELEÇÃO UNIFICADA</td>\n",
              "      <td>2016</td>\n",
              "      <td>NaN</td>\n",
              "      <td>PAG 1</td>\n",
              "      <td>NaN</td>\n",
              "      <td>NaN</td>\n",
              "    </tr>\n",
              "    <tr>\n",
              "      <th>1</th>\n",
              "      <td>RELAÇÃO DOS CANDIDATOS CLASSIFICADOS NA 1A. CH...</td>\n",
              "      <td>NaN</td>\n",
              "      <td>NaN</td>\n",
              "      <td>NaN</td>\n",
              "      <td>NaN</td>\n",
              "      <td>NaN</td>\n",
              "      <td>NaN</td>\n",
              "      <td>18/01/2016</td>\n",
              "      <td>NaN</td>\n",
              "      <td>NaN</td>\n",
              "    </tr>\n",
              "    <tr>\n",
              "      <th>2</th>\n",
              "      <td>==============================================...</td>\n",
              "      <td>NaN</td>\n",
              "      <td>NaN</td>\n",
              "      <td>NaN</td>\n",
              "      <td>NaN</td>\n",
              "      <td>NaN</td>\n",
              "      <td>NaN</td>\n",
              "      <td>NaN</td>\n",
              "      <td>NaN</td>\n",
              "      <td>NaN</td>\n",
              "    </tr>\n",
              "    <tr>\n",
              "      <th>3</th>\n",
              "      <td>CURSO:</td>\n",
              "      <td>NaN</td>\n",
              "      <td>ABI - ENGENHARIA</td>\n",
              "      <td>NaN</td>\n",
              "      <td>GRAU:</td>\n",
              "      <td>ÁREA BÁSICA DE INGRESSO</td>\n",
              "      <td>TURNO:</td>\n",
              "      <td>INTEGRAL</td>\n",
              "      <td>CAMPUS:</td>\n",
              "      <td>RECIFE</td>\n",
              "    </tr>\n",
              "    <tr>\n",
              "      <th>4</th>\n",
              "      <td>INSC. ENEM</td>\n",
              "      <td>NaN</td>\n",
              "      <td>NaN</td>\n",
              "      <td>NaN</td>\n",
              "      <td>NOME DO CANDIDATO</td>\n",
              "      <td>IDENTIDADE</td>\n",
              "      <td>NOTA</td>\n",
              "      <td>MODALIDADE</td>\n",
              "      <td>NaN</td>\n",
              "      <td>NaN</td>\n",
              "    </tr>\n",
              "  </tbody>\n",
              "</table>\n",
              "</div>"
            ],
            "text/plain": [
              "                                                   0    1                 2  \\\n",
              "0                                               UFPE    -              SISU   \n",
              "1  RELAÇÃO DOS CANDIDATOS CLASSIFICADOS NA 1A. CH...  NaN               NaN   \n",
              "2  ==============================================...  NaN               NaN   \n",
              "3                                             CURSO:  NaN  ABI - ENGENHARIA   \n",
              "4                                         INSC. ENEM  NaN               NaN   \n",
              "\n",
              "     3                             4                        5       6  \\\n",
              "0    -  SISTEMA DE SELEÇÃO UNIFICADA                     2016     NaN   \n",
              "1  NaN                           NaN                      NaN     NaN   \n",
              "2  NaN                           NaN                      NaN     NaN   \n",
              "3  NaN                         GRAU:  ÁREA BÁSICA DE INGRESSO  TURNO:   \n",
              "4  NaN             NOME DO CANDIDATO               IDENTIDADE    NOTA   \n",
              "\n",
              "            7        8       9  \n",
              "0       PAG 1      NaN     NaN  \n",
              "1  18/01/2016      NaN     NaN  \n",
              "2         NaN      NaN     NaN  \n",
              "3    INTEGRAL  CAMPUS:  RECIFE  \n",
              "4  MODALIDADE      NaN     NaN  "
            ]
          },
          "metadata": {
            "tags": []
          },
          "execution_count": 12
        }
      ]
    },
    {
      "metadata": {
        "id": "lJiWy1he342J",
        "colab_type": "text"
      },
      "cell_type": "markdown",
      "source": [
        "## Criação do DataFrame\n",
        "\n",
        "---\n",
        "Dados presentes nos listões:\n",
        "\n",
        "1.   Inscrição do ENEM\n",
        "2.   Nome do candidato\n",
        "3.   Identidade\n",
        "4.   Nota\n",
        "5.   Modalidade da cota\n",
        "6.   Curso\n",
        "7.   Ano\n",
        "\n",
        "O código da *inscrição do ENEM* não entrará no DF por ser um dado irrelevante para o estudo.\n",
        "\n",
        "A *identidade* também ficará de fora, para que haja o anonimato.\n",
        "\n",
        "O *nome* ficará temporariamente até que seja feita a predição do gênero.\n",
        "\n",
        "Dessa forma, o DF terá inicialmente as colunas:\n",
        "\n",
        "1.   Nome\n",
        "2.   Nota\n",
        "3.   Modalidade\n",
        "4.   Curso\n",
        "5.   Ano\n",
        "\n",
        "\n",
        "\n"
      ]
    },
    {
      "metadata": {
        "id": "dM2SsBdgeAKJ",
        "colab_type": "code",
        "colab": {}
      },
      "cell_type": "code",
      "source": [
        "colNames = ['NOME', 'NOTA', 'MODALIDADE', 'CURSO', 'ANO']\n",
        "df = pd.DataFrame(columns=colNames)\n",
        "index = 0"
      ],
      "execution_count": 0,
      "outputs": []
    },
    {
      "metadata": {
        "id": "LIh4rAmyXpZL",
        "colab_type": "code",
        "colab": {}
      },
      "cell_type": "code",
      "source": [
        "regexCurso = r\"(CURSO:)\"\n",
        "regexAno = r\"(SELEÇÃO UNIFICADA)\"\n",
        "regexIgnorar = r\"[a-zA-Z]|(=.*)|(\\*.*)\"\n",
        "\n",
        "with open('Sisu16-19.csv', 'r') as f:\n",
        "  reader = csv.reader(f)\n",
        "  for row in reader:\n",
        "    if(re.search(regexCurso, row[0]) != None):\n",
        "      curso = row[2]\n",
        "    if(re.search(regexAno, row[4]) != None):\n",
        "      ano = row[5]\n",
        "    if(re.search(regexIgnorar, row[0]) == None):\n",
        "      df.loc[index] = [row[4], row[6], row[7], curso, ano]\n",
        "      index += 1"
      ],
      "execution_count": 0,
      "outputs": []
    },
    {
      "metadata": {
        "id": "P_P9JenHutSL",
        "colab_type": "code",
        "outputId": "4b0f315a-d2e0-445e-f06b-079cb4c578a2",
        "colab": {
          "base_uri": "https://localhost:8080/",
          "height": 204
        }
      },
      "cell_type": "code",
      "source": [
        "df.head()"
      ],
      "execution_count": 0,
      "outputs": [
        {
          "output_type": "execute_result",
          "data": {
            "text/html": [
              "<div>\n",
              "<style scoped>\n",
              "    .dataframe tbody tr th:only-of-type {\n",
              "        vertical-align: middle;\n",
              "    }\n",
              "\n",
              "    .dataframe tbody tr th {\n",
              "        vertical-align: top;\n",
              "    }\n",
              "\n",
              "    .dataframe thead th {\n",
              "        text-align: right;\n",
              "    }\n",
              "</style>\n",
              "<table border=\"1\" class=\"dataframe\">\n",
              "  <thead>\n",
              "    <tr style=\"text-align: right;\">\n",
              "      <th></th>\n",
              "      <th>NOME</th>\n",
              "      <th>NOTA</th>\n",
              "      <th>MODALIDADE</th>\n",
              "      <th>CURSO</th>\n",
              "      <th>ANO</th>\n",
              "    </tr>\n",
              "  </thead>\n",
              "  <tbody>\n",
              "    <tr>\n",
              "      <th>0</th>\n",
              "      <td>ABINADI STANISCIA RUFINO DA SILVA</td>\n",
              "      <td>685.37</td>\n",
              "      <td>L4</td>\n",
              "      <td>ABI - ENGENHARIA</td>\n",
              "      <td>2016</td>\n",
              "    </tr>\n",
              "    <tr>\n",
              "      <th>1</th>\n",
              "      <td>ADALBERTO JOSE GUERRA PESSOA NETO</td>\n",
              "      <td>716.03</td>\n",
              "      <td>AC</td>\n",
              "      <td>ABI - ENGENHARIA</td>\n",
              "      <td>2016</td>\n",
              "    </tr>\n",
              "    <tr>\n",
              "      <th>2</th>\n",
              "      <td>ADRIANA SIQUEIRA CARNEIRO LEAO</td>\n",
              "      <td>659.49</td>\n",
              "      <td>L4</td>\n",
              "      <td>ABI - ENGENHARIA</td>\n",
              "      <td>2016</td>\n",
              "    </tr>\n",
              "    <tr>\n",
              "      <th>3</th>\n",
              "      <td>ADRIANO RODRIGO DA SILVA</td>\n",
              "      <td>648.32</td>\n",
              "      <td>L4</td>\n",
              "      <td>ABI - ENGENHARIA</td>\n",
              "      <td>2016</td>\n",
              "    </tr>\n",
              "    <tr>\n",
              "      <th>4</th>\n",
              "      <td>ADRIEL FILIPE LINS ALVES DA SILVA</td>\n",
              "      <td>695.95</td>\n",
              "      <td>AC</td>\n",
              "      <td>ABI - ENGENHARIA</td>\n",
              "      <td>2016</td>\n",
              "    </tr>\n",
              "  </tbody>\n",
              "</table>\n",
              "</div>"
            ],
            "text/plain": [
              "                                NOME    NOTA MODALIDADE             CURSO  \\\n",
              "0  ABINADI STANISCIA RUFINO DA SILVA  685.37         L4  ABI - ENGENHARIA   \n",
              "1  ADALBERTO JOSE GUERRA PESSOA NETO  716.03         AC  ABI - ENGENHARIA   \n",
              "2     ADRIANA SIQUEIRA CARNEIRO LEAO  659.49         L4  ABI - ENGENHARIA   \n",
              "3           ADRIANO RODRIGO DA SILVA  648.32         L4  ABI - ENGENHARIA   \n",
              "4  ADRIEL FILIPE LINS ALVES DA SILVA  695.95         AC  ABI - ENGENHARIA   \n",
              "\n",
              "    ANO  \n",
              "0  2016  \n",
              "1  2016  \n",
              "2  2016  \n",
              "3  2016  \n",
              "4  2016  "
            ]
          },
          "metadata": {
            "tags": []
          },
          "execution_count": 16
        }
      ]
    },
    {
      "metadata": {
        "id": "whiVOnKn_skZ",
        "colab_type": "code",
        "colab": {}
      },
      "cell_type": "code",
      "source": [
        "# salvar csv\n",
        "\n",
        "from google.colab import files\n",
        "df.to_csv(\"SiSU.csv\")\n",
        "files.download(\"SiSU.csv\")"
      ],
      "execution_count": 0,
      "outputs": []
    }
  ]
}